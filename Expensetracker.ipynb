{
  "nbformat": 4,
  "nbformat_minor": 0,
  "metadata": {
    "colab": {
      "provenance": [],
      "authorship_tag": "ABX9TyMuQUTqHPsTH3BR5jgpmD4z",
      "include_colab_link": true
    },
    "kernelspec": {
      "name": "python3",
      "display_name": "Python 3"
    },
    "language_info": {
      "name": "python"
    }
  },
  "cells": [
    {
      "cell_type": "markdown",
      "metadata": {
        "id": "view-in-github",
        "colab_type": "text"
      },
      "source": [
        "<a href=\"https://colab.research.google.com/github/OJO44/projectcaps-expense-tracker/blob/main/Expensetracker.ipynb\" target=\"_parent\"><img src=\"https://colab.research.google.com/assets/colab-badge.svg\" alt=\"Open In Colab\"/></a>"
      ]
    },
    {
      "cell_type": "code",
      "execution_count": null,
      "metadata": {
        "id": "Yjmy1XpVbFe1"
      },
      "outputs": [],
      "source": []
    },
    {
      "cell_type": "code",
      "source": [
        "import datetime\n",
        "\n",
        "# Create an empty dictionary to store expenses by category\n",
        "expenses = {}\n",
        "\n",
        "# Create a function for a user to add expenses\n",
        "def add_expense():\n",
        "    category = input(\"Enter expense category: \").upper()\n",
        "    amount = float(input(\"Enter expense amount: \"))\n",
        "    date = datetime.datetime.now().strftime(\"%Y/%m/%d\")\n",
        "\n",
        "#The if statement below checks if the category already exists as a key in the expenses dictionary.\n",
        "#If the category is already in the expenses dictionary, it adds the amount to the existing value associated with that category.\n",
        "#If the category is not yet in the expenses dictionary, it creates a new key-value pair where the category is the key and the amount is the value.\n",
        "    if category in expenses:\n",
        "        expenses[category]['amount'] += amount\n",
        "    else:\n",
        "        expenses[category] = {'amount': amount, 'date': date}\n",
        "\n",
        "    print(\"Expense added successfully.\")\n",
        "\n",
        "# Create a function for that displays all expenses added by a user\n",
        "def display_expenses():\n",
        "    if expenses:\n",
        "        print(\"Expense Tracker:\")\n",
        "        for category, info in expenses.items():\n",
        "            print(f\"Category: {category} - Amount: {info['amount']} - Date: {info['date']}\")\n",
        "    else:\n",
        "        print(\"No expenses recorded.\")\n",
        "\n",
        "def edit_expense(category):\n",
        "    category = category.upper()\n",
        "    if category in expenses:\n",
        "        new_amount = float(input(\"Enter the new amount: \"))\n",
        "        expenses[category]['amount'] = new_amount\n",
        "        print(f\"Expense for {category} updated successfully.\")\n",
        "    else:\n",
        "        print(\"Category not found.\")\n",
        "\n",
        "\n",
        "def delete_expense(category):\n",
        "    category = category.upper()\n",
        "    if category in expenses:\n",
        "        del expenses[category]\n",
        "        print(f\"Expense for {category} deleted successfully.\")\n",
        "\n",
        "    else:\n",
        "        print(\"No expenses recorded.\") #if it does not find find any, ke\n",
        "\n",
        "# Create a Main function to run the program\n",
        "def main():\n",
        "    while True:\n",
        "        print(\"\\n1. Add an expense\") #This line prints the option for the user to add expenses.\n",
        "        print(\"2. Display all expenses\") #This line prints the option for the user to display all expenses.\n",
        "        print(\"3. Edit an expense\")\n",
        "        print(\"4. Delete an expense\")\n",
        "        print(\"5. Exit\")    ##This line prints the option for the user to exit.\n",
        "\n",
        "        choice = input(\"Enter your choice: \") #this line gives the user option to enter a choice\n",
        "\n",
        "        if choice == '1':\n",
        "            add_expense()\n",
        "        elif choice == '2':\n",
        "            display_expenses()\n",
        "        elif choice == '3':\n",
        "            category = input(\"Enter the category to edit: \")\n",
        "            edit_expense(category)\n",
        "        elif choice == '4':\n",
        "            category = input(\"Enter the category to delete: \")\n",
        "            delete_expense(category)\n",
        "        elif choice == '5':\n",
        "            print(\"Exiting program. Goodbye!\")\n",
        "            break\n",
        "        else:\n",
        "            print(\"Invalid choice. Please try again.\")\n",
        "\n",
        "\n",
        "main()\n"
      ],
      "metadata": {
        "colab": {
          "base_uri": "https://localhost:8080/"
        },
        "id": "bokbeJJEbGuM",
        "outputId": "06b7d5a4-5eaa-4600-a6bf-ed3aa7b1253f"
      },
      "execution_count": 1,
      "outputs": [
        {
          "output_type": "stream",
          "name": "stdout",
          "text": [
            "\n",
            "1. Add an expense\n",
            "2. Display all expenses\n",
            "3. Edit an expense\n",
            "4. Delete an expense\n",
            "5. Exit\n",
            "Enter your choice: 1\n",
            "Enter expense category: food\n",
            "Enter expense amount: 300\n",
            "Expense added successfully.\n",
            "\n",
            "1. Add an expense\n",
            "2. Display all expenses\n",
            "3. Edit an expense\n",
            "4. Delete an expense\n",
            "5. Exit\n",
            "Enter your choice: 1\n",
            "Enter expense category: movie\n",
            "Enter expense amount: 2000\n",
            "Expense added successfully.\n",
            "\n",
            "1. Add an expense\n",
            "2. Display all expenses\n",
            "3. Edit an expense\n",
            "4. Delete an expense\n",
            "5. Exit\n",
            "Enter your choice: 2\n",
            "Expense Tracker:\n",
            "Category: FOOD - Amount: 300.0 - Date: 2024/03/23\n",
            "Category: MOVIE - Amount: 2000.0 - Date: 2024/03/23\n",
            "\n",
            "1. Add an expense\n",
            "2. Display all expenses\n",
            "3. Edit an expense\n",
            "4. Delete an expense\n",
            "5. Exit\n",
            "Enter your choice: 5\n",
            "Exiting program. Goodbye!\n"
          ]
        }
      ]
    }
  ]
}